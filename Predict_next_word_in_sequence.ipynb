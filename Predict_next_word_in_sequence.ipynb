{
  "cells": [
    {
      "cell_type": "markdown",
      "metadata": {
        "id": "bFWbEb6uGbN-"
      },
      "source": [
        "# Predicting the next word\n",
        "\n",
        "Create a model that will predict the next word in a text sequence, here it is implemented and trained using a corpus of Shakespeare's sonnets, while also creating some helper functions to pre-process the data."
      ]
    },
    {
      "cell_type": "code",
      "execution_count": 18,
      "metadata": {
        "id": "BOwsuGQQY9OL",
        "tags": [
          "graded"
        ]
      },
      "outputs": [],
      "source": [
        "import numpy as np \n",
        "from tensorflow.keras import regularizers\n",
        "import tensorflow as tf\n",
        "import matplotlib.pyplot as plt\n",
        "import tensorflow.keras.utils as ku \n",
        "from tensorflow.keras.models import Sequential\n",
        "from tensorflow.keras.utils import to_categorical \n",
        "from tensorflow.keras.preprocessing.text import Tokenizer\n",
        "from tensorflow.keras.preprocessing.sequence import pad_sequences\n",
        "from tensorflow.keras.layers import Embedding, LSTM, Dense, Dropout, Bidirectional"
      ]
    },
    {
      "cell_type": "markdown",
      "metadata": {
        "id": "BTxqlHqKHzhr"
      },
      "source": [
        "\n",
        "\n",
        "```\n",
        "# This is formatted as code\n",
        "```\n",
        "\n",
        "Here the [Shakespeare Sonnets Dataset](https://www.opensourceshakespeare.org/views/sonnets/sonnet_view.php?range=viewrange&sonnetrange1=1&sonnetrange2=154), which contains more than 2000 lines of text extracted from Shakespeare's sonnets is used"
      ]
    },
    {
      "cell_type": "code",
      "execution_count": 19,
      "metadata": {
        "id": "WZ4qOUzujMP6",
        "tags": [
          "graded"
        ],
        "colab": {
          "base_uri": "https://localhost:8080/"
        },
        "outputId": "38c1da4a-d9e2-4478-bb22-7d8faf68a1cb"
      },
      "outputs": [
        {
          "output_type": "stream",
          "name": "stdout",
          "text": [
            "/usr/local/lib/python3.8/dist-packages/gdown/cli.py:127: FutureWarning: Option `--id` was deprecated in version 4.3.1 and will be removed in 5.0. You don't need to pass it anymore to use a file ID.\n",
            "  warnings.warn(\n",
            "Downloading...\n",
            "From: https://drive.google.com/uc?id=108jAePKK4R3BVYBbYJZ32JWUwxeMg20K\n",
            "To: /content/sonnets.txt\n",
            "100% 93.6k/93.6k [00:00<00:00, 81.9MB/s]\n"
          ]
        }
      ],
      "source": [
        "# sonnets.txt\n",
        "!gdown --id 108jAePKK4R3BVYBbYJZ32JWUwxeMg20K"
      ]
    },
    {
      "cell_type": "code",
      "execution_count": 20,
      "metadata": {
        "id": "Pfd-nYKij5yY",
        "tags": [
          "graded"
        ],
        "colab": {
          "base_uri": "https://localhost:8080/"
        },
        "outputId": "1fbf9372-f8e4-4123-9f87-adf65c4953a5"
      },
      "outputs": [
        {
          "output_type": "stream",
          "name": "stdout",
          "text": [
            "There are 2159 lines of sonnets\n",
            "\n",
            "The first 5 lines look like this:\n",
            "\n",
            "from fairest creatures we desire increase,\n",
            "that thereby beauty's rose might never die,\n",
            "but as the riper should by time decease,\n",
            "his tender heir might bear his memory:\n",
            "but thou, contracted to thine own bright eyes,\n"
          ]
        }
      ],
      "source": [
        "# Define path for file with sonnets\n",
        "SONNETS_FILE = './sonnets.txt'\n",
        "\n",
        "# Read the data\n",
        "with open('./sonnets.txt') as f:\n",
        "    data = f.read()\n",
        "\n",
        "# Convert to lower case and save as a list\n",
        "corpus = data.lower().split(\"\\n\")\n",
        "\n",
        "print(f\"There are {len(corpus)} lines of sonnets\\n\")\n",
        "print(f\"The first 5 lines look like this:\\n\")\n",
        "for i in range(5):\n",
        "  print(corpus[i])"
      ]
    },
    {
      "cell_type": "markdown",
      "metadata": {
        "id": "imB15zrSNhA1"
      },
      "source": [
        "## Tokenizing the text\n",
        "\n",
        "Now fit the Tokenizer to the corpus and save the total number of words."
      ]
    },
    {
      "cell_type": "code",
      "execution_count": 21,
      "metadata": {
        "id": "AAhM_qAZk0o5",
        "tags": [
          "graded"
        ]
      },
      "outputs": [],
      "source": [
        "tokenizer = Tokenizer()\n",
        "tokenizer.fit_on_texts(corpus)\n",
        "total_words = len(tokenizer.word_index) + 1"
      ]
    },
    {
      "cell_type": "code",
      "execution_count": 22,
      "metadata": {
        "id": "tqhPxdeXlfjh",
        "tags": [
          "graded"
        ],
        "colab": {
          "base_uri": "https://localhost:8080/",
          "height": 35
        },
        "outputId": "22cd23d3-94d8-4706-f518-4fa53fbad14a"
      },
      "outputs": [
        {
          "output_type": "execute_result",
          "data": {
            "text/plain": [
              "'from fairest creatures we desire increase,'"
            ],
            "application/vnd.google.colaboratory.intrinsic+json": {
              "type": "string"
            }
          },
          "metadata": {},
          "execution_count": 22
        }
      ],
      "source": [
        "corpus[0]"
      ]
    },
    {
      "cell_type": "code",
      "execution_count": 25,
      "metadata": {
        "id": "kpTy8WmIQ57P",
        "tags": [
          "graded"
        ],
        "colab": {
          "base_uri": "https://localhost:8080/"
        },
        "outputId": "e2993e25-c0ae-4f77-e8c3-118e9d7de767"
      },
      "outputs": [
        {
          "output_type": "execute_result",
          "data": {
            "text/plain": [
              "[34, 417, 877, 166, 213, 517]"
            ]
          },
          "metadata": {},
          "execution_count": 25
        }
      ],
      "source": [
        "tokenizer.texts_to_sequences([corpus[0]])[0]"
      ]
    },
    {
      "cell_type": "markdown",
      "metadata": {
        "id": "-oqy9KjXRJ9A"
      },
      "source": [
        "## Generating n_grams\n",
        "\n",
        "Now complete the `n_gram_seqs` function below. This function receives the fitted tokenizer and the corpus (which is a list of strings) and should return a list containing the `n_gram` sequences for each line in the corpus:"
      ]
    },
    {
      "cell_type": "code",
      "execution_count": 26,
      "metadata": {
        "id": "iy4baJMDl6kj",
        "tags": [
          "graded"
        ]
      },
      "outputs": [],
      "source": [
        "# GRADED FUNCTION: n_gram_seqs\n",
        "def n_gram_seqs(corpus, tokenizer):\n",
        "    \"\"\"\n",
        "    Generates a list of n-gram sequences\n",
        "    \n",
        "    Args:\n",
        "        corpus (list of string): lines of texts to generate n-grams for\n",
        "        tokenizer (object): an instance of the Tokenizer class containing the word-index dictionary\n",
        "    \n",
        "    Returns:\n",
        "        input_sequences (list of int): the n-gram sequences for each line in the corpus\n",
        "    \"\"\"\n",
        "    input_sequences = []\n",
        "    \n",
        "    ### START CODE HERE\n",
        "    for line in corpus:\n",
        "      token_list = tokenizer.texts_to_sequences([line])[0]\n",
        "      for i in range(1, len(token_list)):\n",
        "        n_gram_sequence = token_list[:i+1]\n",
        "        input_sequences.append(n_gram_sequence)\n",
        "    \n",
        "    ### END CODE HERE\n",
        "    \n",
        "    return input_sequences"
      ]
    },
    {
      "cell_type": "code",
      "execution_count": 27,
      "metadata": {
        "id": "DlKqW2pfM7G3",
        "tags": [
          "graded"
        ],
        "colab": {
          "base_uri": "https://localhost:8080/"
        },
        "outputId": "943643c6-5914-48a1-ef80-db3342c7e051"
      },
      "outputs": [
        {
          "output_type": "stream",
          "name": "stdout",
          "text": [
            "n_gram sequences for first example look like this:\n",
            "\n"
          ]
        },
        {
          "output_type": "execute_result",
          "data": {
            "text/plain": [
              "[[34, 417],\n",
              " [34, 417, 877],\n",
              " [34, 417, 877, 166],\n",
              " [34, 417, 877, 166, 213],\n",
              " [34, 417, 877, 166, 213, 517]]"
            ]
          },
          "metadata": {},
          "execution_count": 27
        }
      ],
      "source": [
        "# Testing function with one example\n",
        "first_example_sequence = n_gram_seqs([corpus[0]], tokenizer)\n",
        "\n",
        "print(\"n_gram sequences for first example look like this:\\n\")\n",
        "first_example_sequence"
      ]
    },
    {
      "cell_type": "code",
      "execution_count": 28,
      "metadata": {
        "id": "wtPpCcBjNc4c",
        "tags": [
          "graded"
        ],
        "colab": {
          "base_uri": "https://localhost:8080/"
        },
        "outputId": "dbc731a1-1c51-45aa-8782-e6bf1f08c8f3"
      },
      "outputs": [
        {
          "output_type": "stream",
          "name": "stdout",
          "text": [
            "n_gram sequences for next 3 examples look like this:\n",
            "\n"
          ]
        },
        {
          "output_type": "execute_result",
          "data": {
            "text/plain": [
              "[[8, 878],\n",
              " [8, 878, 134],\n",
              " [8, 878, 134, 351],\n",
              " [8, 878, 134, 351, 102],\n",
              " [8, 878, 134, 351, 102, 156],\n",
              " [8, 878, 134, 351, 102, 156, 199],\n",
              " [16, 22],\n",
              " [16, 22, 2],\n",
              " [16, 22, 2, 879],\n",
              " [16, 22, 2, 879, 61],\n",
              " [16, 22, 2, 879, 61, 30],\n",
              " [16, 22, 2, 879, 61, 30, 48],\n",
              " [16, 22, 2, 879, 61, 30, 48, 634],\n",
              " [25, 311],\n",
              " [25, 311, 635],\n",
              " [25, 311, 635, 102],\n",
              " [25, 311, 635, 102, 200],\n",
              " [25, 311, 635, 102, 200, 25],\n",
              " [25, 311, 635, 102, 200, 25, 278]]"
            ]
          },
          "metadata": {},
          "execution_count": 28
        }
      ],
      "source": [
        "# Testing function with a bigger corpus\n",
        "next_3_examples_sequence = n_gram_seqs(corpus[1:4], tokenizer)\n",
        "\n",
        "print(\"n_gram sequences for next 3 examples look like this:\\n\")\n",
        "next_3_examples_sequence"
      ]
    },
    {
      "cell_type": "markdown",
      "metadata": {
        "id": "dx3V_RjFWQSu"
      },
      "source": [
        "Apply the `n_gram_seqs` transformation to the whole corpus and save the maximum sequence length to use it later:"
      ]
    },
    {
      "cell_type": "code",
      "execution_count": 29,
      "metadata": {
        "id": "laMwiRUpmuSd",
        "tags": [
          "graded"
        ],
        "colab": {
          "base_uri": "https://localhost:8080/"
        },
        "outputId": "1051fbf8-a77c-452a-bef4-81b658dda390"
      },
      "outputs": [
        {
          "output_type": "stream",
          "name": "stdout",
          "text": [
            "n_grams of input_sequences have length: 15462\n",
            "maximum length of sequences is: 11\n"
          ]
        }
      ],
      "source": [
        "# Apply the n_gram_seqs transformation to the whole corpus\n",
        "input_sequences = n_gram_seqs(corpus, tokenizer)\n",
        "\n",
        "# Save max length \n",
        "max_sequence_len = max([len(x) for x in input_sequences])\n",
        "\n",
        "print(f\"n_grams of input_sequences have length: {len(input_sequences)}\")\n",
        "print(f\"maximum length of sequences is: {max_sequence_len}\")"
      ]
    },
    {
      "cell_type": "markdown",
      "metadata": {
        "id": "zHY7HroqWq12"
      },
      "source": [
        "## Add padding to the sequences\n",
        "\n",
        "Now code the `pad_seqs` function which will pad any given sequences to the desired maximum length. Notice that this function receives a list of sequences and should return a numpy array with the padded sequences: "
      ]
    },
    {
      "cell_type": "code",
      "execution_count": 30,
      "metadata": {
        "cellView": "code",
        "id": "WW1-qAZaWOhC",
        "tags": [
          "graded"
        ]
      },
      "outputs": [],
      "source": [
        "# GRADED FUNCTION: pad_seqs\n",
        "def pad_seqs(input_sequences, maxlen):\n",
        "    \"\"\"\n",
        "    Pads tokenized sequences to the same length\n",
        "    \n",
        "    Args:\n",
        "        input_sequences (list of int): tokenized sequences to pad\n",
        "        maxlen (int): maximum length of the token sequences\n",
        "    \n",
        "    Returns:\n",
        "        padded_sequences (array of int): tokenized sequences padded to the same length\n",
        "    \"\"\"\n",
        "    ### START CODE HERE\n",
        "    max_sequence_len = max([len(x) for x in input_sequences])\n",
        "    padded_sequences = np.array(pad_sequences(input_sequences, maxlen=max_sequence_len, padding='pre'))\n",
        "    \n",
        "    return padded_sequences\n",
        "    ### END CODE HERE"
      ]
    },
    {
      "cell_type": "code",
      "execution_count": 31,
      "metadata": {
        "id": "IqVQ0pb3YHLr",
        "tags": [
          "graded"
        ],
        "colab": {
          "base_uri": "https://localhost:8080/"
        },
        "outputId": "10e00623-924e-4a95-af67-814cef7f21f3"
      },
      "outputs": [
        {
          "output_type": "execute_result",
          "data": {
            "text/plain": [
              "array([[  0,   0,   0,   0,  34, 417],\n",
              "       [  0,   0,   0,  34, 417, 877],\n",
              "       [  0,   0,  34, 417, 877, 166],\n",
              "       [  0,  34, 417, 877, 166, 213],\n",
              "       [ 34, 417, 877, 166, 213, 517]], dtype=int32)"
            ]
          },
          "metadata": {},
          "execution_count": 31
        }
      ],
      "source": [
        "# Test your function with the n_grams_seq of the first example\n",
        "first_padded_seq = pad_seqs(first_example_sequence, len(first_example_sequence))\n",
        "first_padded_seq"
      ]
    },
    {
      "cell_type": "code",
      "execution_count": 32,
      "metadata": {
        "id": "j56_UCOBYzZt",
        "tags": [
          "graded"
        ],
        "colab": {
          "base_uri": "https://localhost:8080/"
        },
        "outputId": "90880c44-f868-4e3b-801d-9979604e0f25"
      },
      "outputs": [
        {
          "output_type": "execute_result",
          "data": {
            "text/plain": [
              "array([[  0,   0,   0,   0,   0,   0,   8, 878],\n",
              "       [  0,   0,   0,   0,   0,   8, 878, 134],\n",
              "       [  0,   0,   0,   0,   8, 878, 134, 351],\n",
              "       [  0,   0,   0,   8, 878, 134, 351, 102],\n",
              "       [  0,   0,   8, 878, 134, 351, 102, 156],\n",
              "       [  0,   8, 878, 134, 351, 102, 156, 199],\n",
              "       [  0,   0,   0,   0,   0,   0,  16,  22],\n",
              "       [  0,   0,   0,   0,   0,  16,  22,   2],\n",
              "       [  0,   0,   0,   0,  16,  22,   2, 879],\n",
              "       [  0,   0,   0,  16,  22,   2, 879,  61],\n",
              "       [  0,   0,  16,  22,   2, 879,  61,  30],\n",
              "       [  0,  16,  22,   2, 879,  61,  30,  48],\n",
              "       [ 16,  22,   2, 879,  61,  30,  48, 634],\n",
              "       [  0,   0,   0,   0,   0,   0,  25, 311],\n",
              "       [  0,   0,   0,   0,   0,  25, 311, 635],\n",
              "       [  0,   0,   0,   0,  25, 311, 635, 102],\n",
              "       [  0,   0,   0,  25, 311, 635, 102, 200],\n",
              "       [  0,   0,  25, 311, 635, 102, 200,  25],\n",
              "       [  0,  25, 311, 635, 102, 200,  25, 278]], dtype=int32)"
            ]
          },
          "metadata": {},
          "execution_count": 32
        }
      ],
      "source": [
        "# Test your function with the n_grams_seq of the next 3 examples\n",
        "next_3_padded_seq = pad_seqs(next_3_examples_sequence, max([len(s) for s in next_3_examples_sequence]))\n",
        "next_3_padded_seq"
      ]
    },
    {
      "cell_type": "code",
      "execution_count": 33,
      "metadata": {
        "id": "rgK-Q_micEYA",
        "tags": [
          "graded"
        ],
        "colab": {
          "base_uri": "https://localhost:8080/"
        },
        "outputId": "fa0726f2-86e2-44eb-9081-c6744f5f3d20"
      },
      "outputs": [
        {
          "output_type": "stream",
          "name": "stdout",
          "text": [
            "padded corpus has shape: (15462, 11)\n"
          ]
        }
      ],
      "source": [
        "# Pad the whole corpus\n",
        "input_sequences = pad_seqs(input_sequences, max_sequence_len)\n",
        "\n",
        "print(f\"padded corpus has shape: {input_sequences.shape}\")"
      ]
    },
    {
      "cell_type": "markdown",
      "metadata": {
        "id": "ZbOidyPrXxf7"
      },
      "source": [
        "## Split the data into features and labels\n",
        "\n",
        "Before feeding the data into the neural network you should split it into features and labels. In this case the features will be the padded n_gram sequences with the last word removed from them and the labels will be the removed word.\n",
        "\n",
        "`features_and_labels` function : This function expects the padded n_gram sequences as input and should return a tuple containing the features and the one hot encoded labels.\n"
      ]
    },
    {
      "cell_type": "code",
      "execution_count": 34,
      "metadata": {
        "cellView": "code",
        "id": "9WGGbYdnZdmJ",
        "tags": [
          "graded"
        ]
      },
      "outputs": [],
      "source": [
        "# GRADED FUNCTION: features_and_labels\n",
        "def features_and_labels(input_sequences, total_words):\n",
        "    \"\"\"\n",
        "    Generates features and labels from n-grams\n",
        "    \n",
        "    Args:\n",
        "        input_sequences (list of int): sequences to split features and labels from\n",
        "        total_words (int): vocabulary size\n",
        "    \n",
        "    Returns:\n",
        "        features, one_hot_labels (array of int, array of int): arrays of features and one-hot encoded labels\n",
        "    \"\"\"\n",
        "    ### START CODE HERE\n",
        "    features = input_sequences[:,:-1]\n",
        "    labels = input_sequences[:,-1]\n",
        "    one_hot_labels = ku.to_categorical(labels, num_classes=total_words)\n",
        "    ### END CODE HERE\n",
        "\n",
        "    return features, one_hot_labels"
      ]
    },
    {
      "cell_type": "code",
      "execution_count": 35,
      "metadata": {
        "id": "23DolaBRaIAZ",
        "tags": [
          "graded"
        ],
        "colab": {
          "base_uri": "https://localhost:8080/"
        },
        "outputId": "5c06141e-c1a2-4829-f55c-513bab8a866c"
      },
      "outputs": [
        {
          "output_type": "stream",
          "name": "stdout",
          "text": [
            "labels have shape: (5, 3211)\n",
            "\n",
            "features look like this:\n",
            "\n"
          ]
        },
        {
          "output_type": "execute_result",
          "data": {
            "text/plain": [
              "array([[  0,   0,   0,   0,  34],\n",
              "       [  0,   0,   0,  34, 417],\n",
              "       [  0,   0,  34, 417, 877],\n",
              "       [  0,  34, 417, 877, 166],\n",
              "       [ 34, 417, 877, 166, 213]], dtype=int32)"
            ]
          },
          "metadata": {},
          "execution_count": 35
        }
      ],
      "source": [
        "# Test your function with the padded n_grams_seq of the first example\n",
        "first_features, first_labels = features_and_labels(first_padded_seq, total_words)\n",
        "\n",
        "print(f\"labels have shape: {first_labels.shape}\")\n",
        "print(\"\\nfeatures look like this:\\n\")\n",
        "first_features"
      ]
    },
    {
      "cell_type": "code",
      "execution_count": 36,
      "metadata": {
        "id": "GRTuLEt3bRKa",
        "tags": [
          "graded"
        ],
        "colab": {
          "base_uri": "https://localhost:8080/"
        },
        "outputId": "7b0dee92-2b60-4bd0-d826-1193bceae72a"
      },
      "outputs": [
        {
          "output_type": "stream",
          "name": "stdout",
          "text": [
            "features have shape: (15462, 10)\n",
            "labels have shape: (15462, 3211)\n"
          ]
        }
      ],
      "source": [
        "# Split the whole corpus\n",
        "features, labels = features_and_labels(input_sequences, total_words)\n",
        "\n",
        "print(f\"features have shape: {features.shape}\")\n",
        "print(f\"labels have shape: {labels.shape}\")"
      ]
    },
    {
      "cell_type": "markdown",
      "metadata": {
        "id": "ltxaOCE_aU6J"
      },
      "source": [
        "## Create the model\n",
        "\n",
        "Model architecture should be capable of achieving an accuracy of at least 80%.\n",
        "\n",
        "- An appropriate `output_dim` for the first layer (Embedding) is 100, this is already provided for you.\n",
        "- A Bidirectional LSTM is helpful for this particular problem.\n",
        "- The last layer should have the same number of units as the total number of words in the corpus and a softmax activation function.\n",
        "- This problem can be solved with only two layers (excluding the Embedding) so try out small architectures first."
      ]
    },
    {
      "cell_type": "code",
      "execution_count": 39,
      "metadata": {
        "cellView": "code",
        "id": "XrE6kpJFfvRY",
        "tags": [
          "graded"
        ]
      },
      "outputs": [],
      "source": [
        "# GRADED FUNCTION: create_model\n",
        "def create_model(total_words, max_sequence_len):\n",
        "    \"\"\"\n",
        "    Creates a text generator model\n",
        "    \n",
        "    Args:\n",
        "        total_words (int): size of the vocabulary for the Embedding layer input\n",
        "        max_sequence_len (int): length of the input sequences\n",
        "    \n",
        "    Returns:\n",
        "        model (tf.keras Model): the text generator model\n",
        "    \"\"\"\n",
        "    model = Sequential()\n",
        "    ### START CODE HERE\n",
        "    model.add(Embedding(total_words, 100, input_length=max_sequence_len-1)) # Your Embedding Layer)\n",
        "    model.add(Bidirectional(LSTM(100, return_sequences = True)))            # An LSTM Layer)\n",
        "    model.add(Dropout(0.2))                                                # A dropout layer)\n",
        "    model.add(Bidirectional(LSTM(100)))                                     # Another LSTM Layer)\n",
        "    model.add(Dense(total_words/2, activation='relu', kernel_regularizer=regularizers.l2(0.01)))      # A Dense Layer including regularizers)\n",
        "    model.add(Dense(total_words, activation='softmax'))                    # A Dense Layer)\n",
        "    # Pick an optimizer\n",
        "    model.compile(loss='categorical_crossentropy', optimizer='adam', metrics=['accuracy'])# Pick a loss function and an optimizer)\n",
        "\n",
        "    ### END CODE HERE\n",
        "\n",
        "    return model"
      ]
    },
    {
      "cell_type": "code",
      "execution_count": 40,
      "metadata": {
        "id": "0IpX_Gu_gISk",
        "tags": [],
        "colab": {
          "base_uri": "https://localhost:8080/"
        },
        "outputId": "67aad63a-b8b4-4a35-8e6b-80fb52436749"
      },
      "outputs": [
        {
          "output_type": "stream",
          "name": "stdout",
          "text": [
            "Epoch 1/140\n",
            "484/484 [==============================] - 16s 12ms/step - loss: 6.9715 - accuracy: 0.0205\n",
            "Epoch 2/140\n",
            "484/484 [==============================] - 6s 12ms/step - loss: 6.5179 - accuracy: 0.0216\n",
            "Epoch 3/140\n",
            "484/484 [==============================] - 6s 12ms/step - loss: 6.4133 - accuracy: 0.0229\n",
            "Epoch 4/140\n",
            "484/484 [==============================] - 6s 12ms/step - loss: 6.2877 - accuracy: 0.0287\n",
            "Epoch 5/140\n",
            "484/484 [==============================] - 6s 12ms/step - loss: 6.1873 - accuracy: 0.0350\n",
            "Epoch 6/140\n",
            "484/484 [==============================] - 6s 12ms/step - loss: 6.0947 - accuracy: 0.0384\n",
            "Epoch 7/140\n",
            "484/484 [==============================] - 7s 15ms/step - loss: 5.9951 - accuracy: 0.0407\n",
            "Epoch 8/140\n",
            "484/484 [==============================] - 7s 14ms/step - loss: 5.8795 - accuracy: 0.0448\n",
            "Epoch 9/140\n",
            "484/484 [==============================] - 6s 12ms/step - loss: 5.7521 - accuracy: 0.0526\n",
            "Epoch 10/140\n",
            "484/484 [==============================] - 6s 12ms/step - loss: 5.6341 - accuracy: 0.0616\n",
            "Epoch 11/140\n",
            "484/484 [==============================] - 6s 12ms/step - loss: 5.5128 - accuracy: 0.0693\n",
            "Epoch 12/140\n",
            "484/484 [==============================] - 6s 12ms/step - loss: 5.3958 - accuracy: 0.0765\n",
            "Epoch 13/140\n",
            "484/484 [==============================] - 6s 12ms/step - loss: 5.2813 - accuracy: 0.0847\n",
            "Epoch 14/140\n",
            "484/484 [==============================] - 6s 12ms/step - loss: 5.1663 - accuracy: 0.0923\n",
            "Epoch 15/140\n",
            "484/484 [==============================] - 6s 13ms/step - loss: 5.0487 - accuracy: 0.1034\n",
            "Epoch 16/140\n",
            "484/484 [==============================] - 6s 12ms/step - loss: 4.9404 - accuracy: 0.1096\n",
            "Epoch 17/140\n",
            "484/484 [==============================] - 6s 12ms/step - loss: 4.8255 - accuracy: 0.1190\n",
            "Epoch 18/140\n",
            "484/484 [==============================] - 6s 12ms/step - loss: 4.7111 - accuracy: 0.1309\n",
            "Epoch 19/140\n",
            "484/484 [==============================] - 6s 12ms/step - loss: 4.6091 - accuracy: 0.1379\n",
            "Epoch 20/140\n",
            "484/484 [==============================] - 6s 12ms/step - loss: 4.4905 - accuracy: 0.1484\n",
            "Epoch 21/140\n",
            "484/484 [==============================] - 6s 12ms/step - loss: 4.3806 - accuracy: 0.1612\n",
            "Epoch 22/140\n",
            "484/484 [==============================] - 6s 12ms/step - loss: 4.2719 - accuracy: 0.1705\n",
            "Epoch 23/140\n",
            "484/484 [==============================] - 6s 12ms/step - loss: 4.1553 - accuracy: 0.1846\n",
            "Epoch 24/140\n",
            "484/484 [==============================] - 6s 12ms/step - loss: 4.0535 - accuracy: 0.1953\n",
            "Epoch 25/140\n",
            "484/484 [==============================] - 6s 12ms/step - loss: 3.9528 - accuracy: 0.2106\n",
            "Epoch 26/140\n",
            "484/484 [==============================] - 6s 12ms/step - loss: 3.8508 - accuracy: 0.2273\n",
            "Epoch 27/140\n",
            "484/484 [==============================] - 6s 12ms/step - loss: 3.7549 - accuracy: 0.2434\n",
            "Epoch 28/140\n",
            "484/484 [==============================] - 6s 12ms/step - loss: 3.6689 - accuracy: 0.2573\n",
            "Epoch 29/140\n",
            "484/484 [==============================] - 6s 12ms/step - loss: 3.5631 - accuracy: 0.2793\n",
            "Epoch 30/140\n",
            "484/484 [==============================] - 6s 12ms/step - loss: 3.4808 - accuracy: 0.2947\n",
            "Epoch 31/140\n",
            "484/484 [==============================] - 6s 12ms/step - loss: 3.3953 - accuracy: 0.3137\n",
            "Epoch 32/140\n",
            "484/484 [==============================] - 6s 12ms/step - loss: 3.3159 - accuracy: 0.3331\n",
            "Epoch 33/140\n",
            "484/484 [==============================] - 6s 12ms/step - loss: 3.2230 - accuracy: 0.3514\n",
            "Epoch 34/140\n",
            "484/484 [==============================] - 6s 12ms/step - loss: 3.1644 - accuracy: 0.3626\n",
            "Epoch 35/140\n",
            "484/484 [==============================] - 6s 12ms/step - loss: 3.0728 - accuracy: 0.3845\n",
            "Epoch 36/140\n",
            "484/484 [==============================] - 6s 12ms/step - loss: 3.0070 - accuracy: 0.3981\n",
            "Epoch 37/140\n",
            "484/484 [==============================] - 6s 12ms/step - loss: 2.9293 - accuracy: 0.4186\n",
            "Epoch 38/140\n",
            "484/484 [==============================] - 6s 12ms/step - loss: 2.8648 - accuracy: 0.4322\n",
            "Epoch 39/140\n",
            "484/484 [==============================] - 6s 12ms/step - loss: 2.8058 - accuracy: 0.4449\n",
            "Epoch 40/140\n",
            "484/484 [==============================] - 6s 12ms/step - loss: 2.7297 - accuracy: 0.4627\n",
            "Epoch 41/140\n",
            "484/484 [==============================] - 6s 12ms/step - loss: 2.6703 - accuracy: 0.4770\n",
            "Epoch 42/140\n",
            "484/484 [==============================] - 6s 12ms/step - loss: 2.6010 - accuracy: 0.4937\n",
            "Epoch 43/140\n",
            "484/484 [==============================] - 6s 12ms/step - loss: 2.5591 - accuracy: 0.5028\n",
            "Epoch 44/140\n",
            "484/484 [==============================] - 6s 13ms/step - loss: 2.4905 - accuracy: 0.5197\n",
            "Epoch 45/140\n",
            "484/484 [==============================] - 7s 14ms/step - loss: 2.4360 - accuracy: 0.5329\n",
            "Epoch 46/140\n",
            "484/484 [==============================] - 6s 12ms/step - loss: 2.3939 - accuracy: 0.5410\n",
            "Epoch 47/140\n",
            "484/484 [==============================] - 6s 12ms/step - loss: 2.3312 - accuracy: 0.5550\n",
            "Epoch 48/140\n",
            "484/484 [==============================] - 6s 12ms/step - loss: 2.2826 - accuracy: 0.5675\n",
            "Epoch 49/140\n",
            "484/484 [==============================] - 6s 12ms/step - loss: 2.2475 - accuracy: 0.5797\n",
            "Epoch 50/140\n",
            "484/484 [==============================] - 6s 12ms/step - loss: 2.2057 - accuracy: 0.5864\n",
            "Epoch 51/140\n",
            "484/484 [==============================] - 6s 12ms/step - loss: 2.1678 - accuracy: 0.5933\n",
            "Epoch 52/140\n",
            "484/484 [==============================] - 6s 12ms/step - loss: 2.1133 - accuracy: 0.6076\n",
            "Epoch 53/140\n",
            "484/484 [==============================] - 6s 12ms/step - loss: 2.0638 - accuracy: 0.6193\n",
            "Epoch 54/140\n",
            "484/484 [==============================] - 6s 12ms/step - loss: 2.0218 - accuracy: 0.6281\n",
            "Epoch 55/140\n",
            "484/484 [==============================] - 6s 12ms/step - loss: 1.9805 - accuracy: 0.6418\n",
            "Epoch 56/140\n",
            "484/484 [==============================] - 6s 12ms/step - loss: 1.9626 - accuracy: 0.6411\n",
            "Epoch 57/140\n",
            "484/484 [==============================] - 6s 12ms/step - loss: 1.9197 - accuracy: 0.6541\n",
            "Epoch 58/140\n",
            "484/484 [==============================] - 6s 12ms/step - loss: 1.8764 - accuracy: 0.6575\n",
            "Epoch 59/140\n",
            "484/484 [==============================] - 6s 12ms/step - loss: 1.8445 - accuracy: 0.6654\n",
            "Epoch 60/140\n",
            "484/484 [==============================] - 6s 12ms/step - loss: 1.8185 - accuracy: 0.6733\n",
            "Epoch 61/140\n",
            "484/484 [==============================] - 6s 12ms/step - loss: 1.7908 - accuracy: 0.6824\n",
            "Epoch 62/140\n",
            "484/484 [==============================] - 6s 12ms/step - loss: 1.7538 - accuracy: 0.6867\n",
            "Epoch 63/140\n",
            "484/484 [==============================] - 6s 12ms/step - loss: 1.7328 - accuracy: 0.6928\n",
            "Epoch 64/140\n",
            "484/484 [==============================] - 6s 12ms/step - loss: 1.7086 - accuracy: 0.6987\n",
            "Epoch 65/140\n",
            "484/484 [==============================] - 6s 12ms/step - loss: 1.6780 - accuracy: 0.7017\n",
            "Epoch 66/140\n",
            "484/484 [==============================] - 6s 12ms/step - loss: 1.6431 - accuracy: 0.7123\n",
            "Epoch 67/140\n",
            "484/484 [==============================] - 6s 12ms/step - loss: 1.6234 - accuracy: 0.7094\n",
            "Epoch 68/140\n",
            "484/484 [==============================] - 6s 12ms/step - loss: 1.5912 - accuracy: 0.7233\n",
            "Epoch 69/140\n",
            "484/484 [==============================] - 6s 12ms/step - loss: 1.5820 - accuracy: 0.7236\n",
            "Epoch 70/140\n",
            "484/484 [==============================] - 6s 12ms/step - loss: 1.5512 - accuracy: 0.7313\n",
            "Epoch 71/140\n",
            "484/484 [==============================] - 6s 12ms/step - loss: 1.5337 - accuracy: 0.7311\n",
            "Epoch 72/140\n",
            "484/484 [==============================] - 6s 12ms/step - loss: 1.5042 - accuracy: 0.7394\n",
            "Epoch 73/140\n",
            "484/484 [==============================] - 6s 12ms/step - loss: 1.4970 - accuracy: 0.7388\n",
            "Epoch 74/140\n",
            "484/484 [==============================] - 6s 12ms/step - loss: 1.4771 - accuracy: 0.7415\n",
            "Epoch 75/140\n",
            "484/484 [==============================] - 6s 12ms/step - loss: 1.4514 - accuracy: 0.7462\n",
            "Epoch 76/140\n",
            "484/484 [==============================] - 6s 12ms/step - loss: 1.4378 - accuracy: 0.7502\n",
            "Epoch 77/140\n",
            "484/484 [==============================] - 6s 12ms/step - loss: 1.4311 - accuracy: 0.7509\n",
            "Epoch 78/140\n",
            "484/484 [==============================] - 6s 12ms/step - loss: 1.3919 - accuracy: 0.7624\n",
            "Epoch 79/140\n",
            "484/484 [==============================] - 6s 12ms/step - loss: 1.3787 - accuracy: 0.7629\n",
            "Epoch 80/140\n",
            "484/484 [==============================] - 6s 12ms/step - loss: 1.3789 - accuracy: 0.7634\n",
            "Epoch 81/140\n",
            "484/484 [==============================] - 6s 12ms/step - loss: 1.3649 - accuracy: 0.7617\n",
            "Epoch 82/140\n",
            "484/484 [==============================] - 6s 12ms/step - loss: 1.3369 - accuracy: 0.7716\n",
            "Epoch 83/140\n",
            "484/484 [==============================] - 8s 16ms/step - loss: 1.3379 - accuracy: 0.7678\n",
            "Epoch 84/140\n",
            "484/484 [==============================] - 6s 12ms/step - loss: 1.3237 - accuracy: 0.7694\n",
            "Epoch 85/140\n",
            "484/484 [==============================] - 6s 12ms/step - loss: 1.3024 - accuracy: 0.7754\n",
            "Epoch 86/140\n",
            "484/484 [==============================] - 6s 12ms/step - loss: 1.2796 - accuracy: 0.7792\n",
            "Epoch 87/140\n",
            "484/484 [==============================] - 6s 12ms/step - loss: 1.2829 - accuracy: 0.7767\n",
            "Epoch 88/140\n",
            "484/484 [==============================] - 6s 12ms/step - loss: 1.2514 - accuracy: 0.7832\n",
            "Epoch 89/140\n",
            "484/484 [==============================] - 6s 12ms/step - loss: 1.2502 - accuracy: 0.7829\n",
            "Epoch 90/140\n",
            "484/484 [==============================] - 6s 12ms/step - loss: 1.2415 - accuracy: 0.7857\n",
            "Epoch 91/140\n",
            "484/484 [==============================] - 6s 12ms/step - loss: 1.2396 - accuracy: 0.7849\n",
            "Epoch 92/140\n",
            "484/484 [==============================] - 6s 12ms/step - loss: 1.2275 - accuracy: 0.7856\n",
            "Epoch 93/140\n",
            "484/484 [==============================] - 6s 12ms/step - loss: 1.2031 - accuracy: 0.7932\n",
            "Epoch 94/140\n",
            "484/484 [==============================] - 6s 12ms/step - loss: 1.1929 - accuracy: 0.7966\n",
            "Epoch 95/140\n",
            "484/484 [==============================] - 6s 12ms/step - loss: 1.1936 - accuracy: 0.7896\n",
            "Epoch 96/140\n",
            "484/484 [==============================] - 6s 12ms/step - loss: 1.1801 - accuracy: 0.7952\n",
            "Epoch 97/140\n",
            "484/484 [==============================] - 6s 12ms/step - loss: 1.1736 - accuracy: 0.7975\n",
            "Epoch 98/140\n",
            "484/484 [==============================] - 6s 12ms/step - loss: 1.1557 - accuracy: 0.7998\n",
            "Epoch 99/140\n",
            "484/484 [==============================] - 6s 12ms/step - loss: 1.1666 - accuracy: 0.7937\n",
            "Epoch 100/140\n",
            "484/484 [==============================] - 6s 12ms/step - loss: 1.1435 - accuracy: 0.8022\n",
            "Epoch 101/140\n",
            "484/484 [==============================] - 6s 12ms/step - loss: 1.1675 - accuracy: 0.7974\n",
            "Epoch 102/140\n",
            "484/484 [==============================] - 6s 12ms/step - loss: 1.1469 - accuracy: 0.7986\n",
            "Epoch 103/140\n",
            "484/484 [==============================] - 6s 12ms/step - loss: 1.1214 - accuracy: 0.8029\n",
            "Epoch 104/140\n",
            "484/484 [==============================] - 6s 12ms/step - loss: 1.1237 - accuracy: 0.8025\n",
            "Epoch 105/140\n",
            "484/484 [==============================] - 6s 12ms/step - loss: 1.1101 - accuracy: 0.8027\n",
            "Epoch 106/140\n",
            "484/484 [==============================] - 6s 12ms/step - loss: 1.1071 - accuracy: 0.8052\n",
            "Epoch 107/140\n",
            "484/484 [==============================] - 6s 12ms/step - loss: 1.0877 - accuracy: 0.8098\n",
            "Epoch 108/140\n",
            "484/484 [==============================] - 6s 12ms/step - loss: 1.0862 - accuracy: 0.8060\n",
            "Epoch 109/140\n",
            "484/484 [==============================] - 6s 12ms/step - loss: 1.0766 - accuracy: 0.8117\n",
            "Epoch 110/140\n",
            "484/484 [==============================] - 6s 12ms/step - loss: 1.0758 - accuracy: 0.8102\n",
            "Epoch 111/140\n",
            "484/484 [==============================] - 6s 12ms/step - loss: 1.0744 - accuracy: 0.8123\n",
            "Epoch 112/140\n",
            "484/484 [==============================] - 6s 12ms/step - loss: 1.0712 - accuracy: 0.8092\n",
            "Epoch 113/140\n",
            "484/484 [==============================] - 6s 12ms/step - loss: 1.0748 - accuracy: 0.8086\n",
            "Epoch 114/140\n",
            "484/484 [==============================] - 6s 12ms/step - loss: 1.0509 - accuracy: 0.8143\n",
            "Epoch 115/140\n",
            "484/484 [==============================] - 6s 12ms/step - loss: 1.0247 - accuracy: 0.8202\n",
            "Epoch 116/140\n",
            "484/484 [==============================] - 6s 12ms/step - loss: 1.0341 - accuracy: 0.8163\n",
            "Epoch 117/140\n",
            "484/484 [==============================] - 6s 12ms/step - loss: 1.0307 - accuracy: 0.8180\n",
            "Epoch 118/140\n",
            "484/484 [==============================] - 6s 12ms/step - loss: 1.0360 - accuracy: 0.8149\n",
            "Epoch 119/140\n",
            "484/484 [==============================] - 6s 12ms/step - loss: 1.0379 - accuracy: 0.8135\n",
            "Epoch 120/140\n",
            "484/484 [==============================] - 6s 12ms/step - loss: 1.0294 - accuracy: 0.8143\n",
            "Epoch 121/140\n",
            "484/484 [==============================] - 8s 16ms/step - loss: 1.0249 - accuracy: 0.8152\n",
            "Epoch 122/140\n",
            "484/484 [==============================] - 6s 12ms/step - loss: 1.0101 - accuracy: 0.8177\n",
            "Epoch 123/140\n",
            "484/484 [==============================] - 6s 12ms/step - loss: 1.0092 - accuracy: 0.8185\n",
            "Epoch 124/140\n",
            "484/484 [==============================] - 6s 12ms/step - loss: 1.0003 - accuracy: 0.8203\n",
            "Epoch 125/140\n",
            "484/484 [==============================] - 6s 12ms/step - loss: 1.0015 - accuracy: 0.8182\n",
            "Epoch 126/140\n",
            "484/484 [==============================] - 6s 12ms/step - loss: 1.0032 - accuracy: 0.8165\n",
            "Epoch 127/140\n",
            "484/484 [==============================] - 6s 12ms/step - loss: 0.9964 - accuracy: 0.8198\n",
            "Epoch 128/140\n",
            "484/484 [==============================] - 6s 12ms/step - loss: 0.9655 - accuracy: 0.8268\n",
            "Epoch 129/140\n",
            "484/484 [==============================] - 6s 12ms/step - loss: 0.9679 - accuracy: 0.8242\n",
            "Epoch 130/140\n",
            "484/484 [==============================] - 6s 12ms/step - loss: 0.9692 - accuracy: 0.8235\n",
            "Epoch 131/140\n",
            "484/484 [==============================] - 6s 12ms/step - loss: 0.9899 - accuracy: 0.8211\n",
            "Epoch 132/140\n",
            "484/484 [==============================] - 6s 12ms/step - loss: 0.9738 - accuracy: 0.8240\n",
            "Epoch 133/140\n",
            "484/484 [==============================] - 6s 12ms/step - loss: 0.9826 - accuracy: 0.8193\n",
            "Epoch 134/140\n",
            "484/484 [==============================] - 6s 12ms/step - loss: 0.9616 - accuracy: 0.8242\n",
            "Epoch 135/140\n",
            "484/484 [==============================] - 6s 12ms/step - loss: 0.9809 - accuracy: 0.8178\n",
            "Epoch 136/140\n",
            "484/484 [==============================] - 6s 12ms/step - loss: 0.9554 - accuracy: 0.8237\n",
            "Epoch 137/140\n",
            "484/484 [==============================] - 6s 12ms/step - loss: 0.9493 - accuracy: 0.8261\n",
            "Epoch 138/140\n",
            "484/484 [==============================] - 6s 12ms/step - loss: 0.9482 - accuracy: 0.8267\n",
            "Epoch 139/140\n",
            "484/484 [==============================] - 6s 12ms/step - loss: 0.9527 - accuracy: 0.8234\n",
            "Epoch 140/140\n",
            "484/484 [==============================] - 6s 12ms/step - loss: 0.9456 - accuracy: 0.8261\n"
          ]
        }
      ],
      "source": [
        "# Get the untrained model\n",
        "model = create_model(total_words, max_sequence_len)\n",
        "\n",
        "# Train the model\n",
        "history = model.fit(features, labels, epochs=140, verbose=1)"
      ]
    },
    {
      "cell_type": "code",
      "execution_count": 41,
      "metadata": {
        "id": "1fXTEO3GJ282",
        "tags": [],
        "colab": {
          "base_uri": "https://localhost:8080/",
          "height": 545
        },
        "outputId": "3a621e61-416c-4277-b3a1-dc140582a549"
      },
      "outputs": [
        {
          "output_type": "display_data",
          "data": {
            "text/plain": [
              "<Figure size 432x288 with 1 Axes>"
            ],
            "image/png": "[encoded data removed]"
          },
          "metadata": {
            "needs_background": "light"
          }
        },
        {
          "output_type": "display_data",
          "data": {
            "text/plain": [
              "<Figure size 432x288 with 1 Axes>"
            ],
            "image/png": "[encoded data removed]"
          },
          "metadata": {
            "needs_background": "light"
          }
        }
      ],
      "source": [
        "# Take a look at the training curves of your model\n",
        "\n",
        "acc = history.history['accuracy']\n",
        "loss = history.history['loss']\n",
        "\n",
        "epochs = range(len(acc))\n",
        "\n",
        "plt.plot(epochs, acc, 'b', label='Training accuracy')\n",
        "plt.title('Training accuracy')\n",
        "\n",
        "plt.figure()\n",
        "\n",
        "plt.plot(epochs, loss, 'b', label='Training Loss')\n",
        "plt.title('Training loss')\n",
        "plt.legend()\n",
        "\n",
        "plt.show()"
      ]
    },
    {
      "cell_type": "code",
      "execution_count": 42,
      "metadata": {
        "id": "9QRG73l6qE-c",
        "tags": [],
        "colab": {
          "base_uri": "https://localhost:8080/",
          "height": 17
        },
        "outputId": "accdd16d-167b-4cec-ee47-09b56ccbeb10"
      },
      "outputs": [
        {
          "output_type": "display_data",
          "data": {
            "text/plain": [
              "<IPython.core.display.Javascript object>"
            ],
            "application/javascript": [
              "\n",
              "    async function download(id, filename, size) {\n",
              "      if (!google.colab.kernel.accessAllowed) {\n",
              "        return;\n",
              "      }\n",
              "      const div = document.createElement('div');\n",
              "      const label = document.createElement('label');\n",
              "      label.textContent = `Downloading \"${filename}\": `;\n",
              "      div.appendChild(label);\n",
              "      const progress = document.createElement('progress');\n",
              "      progress.max = size;\n",
              "      div.appendChild(progress);\n",
              "      document.body.appendChild(div);\n",
              "\n",
              "      const buffers = [];\n",
              "      let downloaded = 0;\n",
              "\n",
              "      const channel = await google.colab.kernel.comms.open(id);\n",
              "      // Send a message to notify the kernel that we're ready.\n",
              "      channel.send({})\n",
              "\n",
              "      for await (const message of channel.messages) {\n",
              "        // Send a message to notify the kernel that we're ready.\n",
              "        channel.send({})\n",
              "        if (message.buffers) {\n",
              "          for (const buffer of message.buffers) {\n",
              "            buffers.push(buffer);\n",
              "            downloaded += buffer.byteLength;\n",
              "            progress.value = downloaded;\n",
              "          }\n",
              "        }\n",
              "      }\n",
              "      const blob = new Blob(buffers, {type: 'application/binary'});\n",
              "      const a = document.createElement('a');\n",
              "      a.href = window.URL.createObjectURL(blob);\n",
              "      a.download = filename;\n",
              "      div.appendChild(a);\n",
              "      a.click();\n",
              "      div.remove();\n",
              "    }\n",
              "  "
            ]
          },
          "metadata": {}
        },
        {
          "output_type": "display_data",
          "data": {
            "text/plain": [
              "<IPython.core.display.Javascript object>"
            ],
            "application/javascript": [
              "download(\"download_dab94403-3df6-4b8c-84d2-9bbeb111c785\", \"history.pkl\", 2562)"
            ]
          },
          "metadata": {}
        }
      ],
      "source": [
        "def download_history():\n",
        "  import pickle\n",
        "  from google.colab import files\n",
        "\n",
        "  with open('history.pkl', 'wb') as f:\n",
        "    pickle.dump(history.history, f)\n",
        "\n",
        "  files.download('history.pkl')\n",
        "\n",
        "download_history()"
      ]
    },
    {
      "cell_type": "markdown",
      "metadata": {
        "id": "wdsMszk9zBs_"
      },
      "source": [
        "## See model in action\n",
        "\n",
        "Run the cell below to generate the next 100 words of a seed text."
      ]
    },
    {
      "cell_type": "code",
      "execution_count": 44,
      "metadata": {
        "id": "6Vc6PHgxa6Hm",
        "tags": [],
        "colab": {
          "base_uri": "https://localhost:8080/"
        },
        "outputId": "f82728f7-e574-4d60-e8e3-f6cdb722140a"
      },
      "outputs": [
        {
          "output_type": "stream",
          "name": "stdout",
          "text": [
            "Help me Obi Wan Kenobi, you're my only hope name they buried of life tell mine eyes common grow on earth nearly hour such summer's gait treason cold holds from men away ' back again shall play to stand cold cold doth date disarm'd disarm'd set dead burn her heart torn seen releasing far mad fix'd so better air in no lips more write to you best best so show thee thine old old rent near slain near wilt shine bright lies free seen weep held weep new bold eye on nought better hate on ' alone so seen another youth and life i shows not they lie to\n"
          ]
        }
      ],
      "source": [
        "seed_text = \"Help me Obi Wan Kenobi, you're my only hope\"\n",
        "next_words = 100\n",
        "  \n",
        "for _ in range(next_words):\n",
        "\t# Convert the text into sequences\n",
        "\ttoken_list = tokenizer.texts_to_sequences([seed_text])[0]\n",
        "\t# Pad the sequences\n",
        "\ttoken_list = pad_sequences([token_list], maxlen=max_sequence_len-1, padding='pre')\n",
        "\t# Get the probabilities of predicting a word\n",
        "\tpredicted = model.predict(token_list, verbose=0)\n",
        "\t# Choose the next word based on the maximum probability\n",
        "\tpredicted = np.argmax(predicted, axis=-1).item()\n",
        "\t# Get the actual word from the word index\n",
        "\toutput_word = tokenizer.index_word[predicted]\n",
        "\t# Append to the current text\n",
        "\tseed_text += \" \" + output_word\n",
        "\n",
        "print(seed_text)"
      ]
    }
  ],
  "metadata": {
    "accelerator": "GPU",
    "dlai_version": "1.2.0",
    "jupytext": {
      "main_language": "python"
    },
    "kernelspec": {
      "display_name": "Python 3",
      "language": "python",
      "name": "python3"
    },
    "language_info": {
      "codemirror_mode": {
        "name": "ipython",
        "version": 3
      },
      "file_extension": ".py",
      "mimetype": "text/x-python",
      "name": "python",
      "nbconvert_exporter": "python",
      "pygments_lexer": "ipython3",
      "version": "3.7.4"
    },
    "colab": {
      "provenance": []
    }
  },
  "nbformat": 4,
  "nbformat_minor": 0
}